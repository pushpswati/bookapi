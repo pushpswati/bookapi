{
 "cells": [
  {
   "cell_type": "markdown",
   "metadata": {},
   "source": [
    "# Get data from external API and POST --INSERT to django servr DB"
   ]
  },
  {
   "cell_type": "code",
   "execution_count": 8,
   "metadata": {},
   "outputs": [
    {
     "name": "stdout",
     "output_type": "stream",
     "text": [
      "dict_keys(['url', 'name', 'isbn', 'authors', 'numberOfPages', 'publisher', 'country', 'mediaType', 'released', 'characters', 'povCharacters'])\n"
     ]
    }
   ],
   "source": [
    "import requests\n",
    "import json\n",
    "import pprint as pp\n",
    "url=\"https://www.anapioficeandfire.com/api/books\"\n",
    "response=requests.get(url)\n",
    "data=response.json()\n",
    "pp.pprint(data[0].keys())"
   ]
  },
  {
   "cell_type": "code",
   "execution_count": 13,
   "metadata": {},
   "outputs": [],
   "source": [
    "postdata= [ 'name', 'isbn', 'authors', 'numberOfPages', 'publisher', 'country', 'released']\n",
    "payload={}\n",
    "for k in data[0]:\n",
    "    if k in postdata:\n",
    "        payload[k]=data[0][k]"
   ]
  },
  {
   "cell_type": "code",
   "execution_count": 15,
   "metadata": {},
   "outputs": [
    {
     "data": {
      "text/plain": [
       "{'name': 'A Game of Thrones',\n",
       " 'isbn': '978-0553103540',\n",
       " 'authors': ['George R. R. Martin'],\n",
       " 'numberOfPages': 694,\n",
       " 'publisher': 'Bantam Books',\n",
       " 'country': 'United States',\n",
       " 'released': '1996-08-01T00:00:00'}"
      ]
     },
     "execution_count": 15,
     "metadata": {},
     "output_type": "execute_result"
    }
   ],
   "source": [
    "payload"
   ]
  },
  {
   "cell_type": "markdown",
   "metadata": {},
   "source": [
    "# POST data to DJANGO SERVER"
   ]
  },
  {
   "cell_type": "code",
   "execution_count": 26,
   "metadata": {},
   "outputs": [],
   "source": [
    "apiurl=\"http://127.0.0.1:8000/api/v1/books\"\n",
    "res=requests.post(apiurl,data=payload)"
   ]
  },
  {
   "cell_type": "code",
   "execution_count": 27,
   "metadata": {},
   "outputs": [
    {
     "data": {
      "text/plain": [
       "{'id': 2,\n",
       " 'name': 'A Game of Thrones',\n",
       " 'isbn': '978-0553103540',\n",
       " 'authors': 'George R. R. Martin',\n",
       " 'numberOfPages': 694,\n",
       " 'publisher': 'Bantam Books',\n",
       " 'country': 'United States',\n",
       " 'released': '1996-08-01T00:00:00'}"
      ]
     },
     "execution_count": 27,
     "metadata": {},
     "output_type": "execute_result"
    }
   ],
   "source": [
    "res.json()"
   ]
  },
  {
   "cell_type": "markdown",
   "metadata": {},
   "source": [
    "# GET ALL RECORDS"
   ]
  },
  {
   "cell_type": "code",
   "execution_count": 33,
   "metadata": {},
   "outputs": [
    {
     "data": {
      "text/plain": [
       "[{'id': 2,\n",
       "  'name': 'A Game of Thrones new book',\n",
       "  'isbn': '978-0553103540',\n",
       "  'authors': 'George R. R. Martin',\n",
       "  'numberOfPages': 694,\n",
       "  'publisher': 'Bantam Books',\n",
       "  'country': 'United States',\n",
       "  'released': '1996-08-01T00:00:00'}]"
      ]
     },
     "execution_count": 33,
     "metadata": {},
     "output_type": "execute_result"
    }
   ],
   "source": [
    "apiurl=\"http://127.0.0.1:8000/api/v1/books\"\n",
    "res=requests.get(apiurl)\n",
    "res.json()"
   ]
  },
  {
   "cell_type": "markdown",
   "metadata": {},
   "source": [
    "# DELETE"
   ]
  },
  {
   "cell_type": "code",
   "execution_count": 23,
   "metadata": {},
   "outputs": [],
   "source": [
    "apiurl=\"http://127.0.0.1:8000/api/v1/books/1\"\n",
    "res=requests.delete(apiurl)\n"
   ]
  },
  {
   "cell_type": "code",
   "execution_count": null,
   "metadata": {},
   "outputs": [],
   "source": []
  },
  {
   "cell_type": "code",
   "execution_count": 24,
   "metadata": {},
   "outputs": [
    {
     "data": {
      "text/plain": [
       "<Response [204]>"
      ]
     },
     "execution_count": 24,
     "metadata": {},
     "output_type": "execute_result"
    }
   ],
   "source": [
    "res"
   ]
  },
  {
   "cell_type": "code",
   "execution_count": null,
   "metadata": {},
   "outputs": [],
   "source": []
  },
  {
   "cell_type": "markdown",
   "metadata": {},
   "source": [
    "# UPDATE"
   ]
  },
  {
   "cell_type": "code",
   "execution_count": 28,
   "metadata": {},
   "outputs": [],
   "source": [
    "changed_payload={'name': 'A Game of Thrones new book',\n",
    " 'isbn': '978-0553103540',\n",
    " 'authors': ['George R. R. Martin'],\n",
    " 'numberOfPages': 694,\n",
    " 'publisher': 'Bantam Books',\n",
    " 'country': 'United States',\n",
    " 'released': '1996-08-01T00:00:00'}"
   ]
  },
  {
   "cell_type": "code",
   "execution_count": 32,
   "metadata": {},
   "outputs": [
    {
     "data": {
      "text/plain": [
       "<Response [200]>"
      ]
     },
     "execution_count": 32,
     "metadata": {},
     "output_type": "execute_result"
    }
   ],
   "source": [
    "apiurl=\"http://127.0.0.1:8000/api/v1/books/2/update\"\n",
    "res=requests.put(apiurl,data=changed_payload)\n",
    "res"
   ]
  },
  {
   "cell_type": "code",
   "execution_count": null,
   "metadata": {},
   "outputs": [],
   "source": []
  }
 ],
 "metadata": {
  "kernelspec": {
   "display_name": "Python 3",
   "language": "python",
   "name": "python3"
  },
  "language_info": {
   "codemirror_mode": {
    "name": "ipython",
    "version": 3
   },
   "file_extension": ".py",
   "mimetype": "text/x-python",
   "name": "python",
   "nbconvert_exporter": "python",
   "pygments_lexer": "ipython3",
   "version": "3.8.5"
  }
 },
 "nbformat": 4,
 "nbformat_minor": 4
}
